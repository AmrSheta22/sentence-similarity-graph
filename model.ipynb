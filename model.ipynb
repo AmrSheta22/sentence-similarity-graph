{
 "cells": [
  {
   "cell_type": "markdown",
   "metadata": {},
   "source": [
    "# Part One: Senctence Similarity "
   ]
  },
  {
   "cell_type": "markdown",
   "metadata": {},
   "source": [
    "To achieve the objective of calculating the similarity between two or more sentences, we need a to calculate a sentence embedding which is a vector of number that represents the sentence meaning."
   ]
  },
  {
   "cell_type": "markdown",
   "metadata": {},
   "source": [
    "We can do that by a variety of methods: \n",
    "<br>\n",
    "\n",
    "<h3>First Method:</h3>\n",
    "Calculating the sum of all word embeddings in each senctence, then normalize the output and calculate the similarity between the two vectors by cosine similarity or covariance or any other similarity or dissimilarity method."
   ]
  },
  {
   "cell_type": "markdown",
   "metadata": {},
   "source": [
    "A method like this has the drawback of not considering the context in which a word is used in, so we will use the pretrained model BERT to encode the text after making encoding."
   ]
  },
  {
   "cell_type": "code",
   "execution_count": 35,
   "metadata": {},
   "outputs": [
    {
     "name": "stdout",
     "output_type": "stream",
     "text": [
      "Requirement already satisfied: numpy in c:\\users\\win 10 pro\\appdata\\local\\programs\\python\\python310\\lib\\site-packages (1.25.1)\n"
     ]
    },
    {
     "name": "stderr",
     "output_type": "stream",
     "text": [
      "\n",
      "[notice] A new release of pip is available: 23.0.1 -> 23.2\n",
      "[notice] To update, run: python.exe -m pip install --upgrade pip\n"
     ]
    },
    {
     "name": "stdout",
     "output_type": "stream",
     "text": [
      "Requirement already satisfied: pandas in c:\\users\\win 10 pro\\appdata\\local\\programs\\python\\python310\\lib\\site-packages (2.0.3)\n",
      "Requirement already satisfied: tzdata>=2022.1 in c:\\users\\win 10 pro\\appdata\\local\\programs\\python\\python310\\lib\\site-packages (from pandas) (2023.3)\n",
      "Requirement already satisfied: numpy>=1.21.0 in c:\\users\\win 10 pro\\appdata\\local\\programs\\python\\python310\\lib\\site-packages (from pandas) (1.25.1)\n",
      "Requirement already satisfied: pytz>=2020.1 in c:\\users\\win 10 pro\\appdata\\local\\programs\\python\\python310\\lib\\site-packages (from pandas) (2023.3)\n",
      "Requirement already satisfied: python-dateutil>=2.8.2 in c:\\users\\win 10 pro\\appdata\\local\\programs\\python\\python310\\lib\\site-packages (from pandas) (2.8.2)\n",
      "Requirement already satisfied: six>=1.5 in c:\\users\\win 10 pro\\appdata\\local\\programs\\python\\python310\\lib\\site-packages (from python-dateutil>=2.8.2->pandas) (1.16.0)\n"
     ]
    },
    {
     "name": "stderr",
     "output_type": "stream",
     "text": [
      "\n",
      "[notice] A new release of pip is available: 23.0.1 -> 23.2\n",
      "[notice] To update, run: python.exe -m pip install --upgrade pip\n"
     ]
    },
    {
     "name": "stdout",
     "output_type": "stream",
     "text": [
      "Requirement already satisfied: matplotlib in c:\\users\\win 10 pro\\appdata\\local\\programs\\python\\python310\\lib\\site-packages (3.7.2)\n",
      "Requirement already satisfied: contourpy>=1.0.1 in c:\\users\\win 10 pro\\appdata\\local\\programs\\python\\python310\\lib\\site-packages (from matplotlib) (1.1.0)\n",
      "Requirement already satisfied: pyparsing<3.1,>=2.3.1 in c:\\users\\win 10 pro\\appdata\\local\\programs\\python\\python310\\lib\\site-packages (from matplotlib) (3.0.9)\n",
      "Requirement already satisfied: fonttools>=4.22.0 in c:\\users\\win 10 pro\\appdata\\local\\programs\\python\\python310\\lib\\site-packages (from matplotlib) (4.41.0)\n",
      "Requirement already satisfied: numpy>=1.20 in c:\\users\\win 10 pro\\appdata\\local\\programs\\python\\python310\\lib\\site-packages (from matplotlib) (1.25.1)\n",
      "Requirement already satisfied: pillow>=6.2.0 in c:\\users\\win 10 pro\\appdata\\local\\programs\\python\\python310\\lib\\site-packages (from matplotlib) (10.0.0)\n",
      "Requirement already satisfied: python-dateutil>=2.7 in c:\\users\\win 10 pro\\appdata\\local\\programs\\python\\python310\\lib\\site-packages (from matplotlib) (2.8.2)\n",
      "Requirement already satisfied: packaging>=20.0 in c:\\users\\win 10 pro\\appdata\\roaming\\python\\python310\\site-packages (from matplotlib) (23.1)\n",
      "Requirement already satisfied: kiwisolver>=1.0.1 in c:\\users\\win 10 pro\\appdata\\local\\programs\\python\\python310\\lib\\site-packages (from matplotlib) (1.4.4)\n",
      "Requirement already satisfied: cycler>=0.10 in c:\\users\\win 10 pro\\appdata\\local\\programs\\python\\python310\\lib\\site-packages (from matplotlib) (0.11.0)\n",
      "Requirement already satisfied: six>=1.5 in c:\\users\\win 10 pro\\appdata\\local\\programs\\python\\python310\\lib\\site-packages (from python-dateutil>=2.7->matplotlib) (1.16.0)\n"
     ]
    },
    {
     "name": "stderr",
     "output_type": "stream",
     "text": [
      "\n",
      "[notice] A new release of pip is available: 23.0.1 -> 23.2\n",
      "[notice] To update, run: python.exe -m pip install --upgrade pip\n"
     ]
    },
    {
     "name": "stdout",
     "output_type": "stream",
     "text": [
      "Requirement already satisfied: torch in c:\\users\\win 10 pro\\appdata\\local\\programs\\python\\python310\\lib\\site-packages (2.0.1)\n",
      "Requirement already satisfied: networkx in c:\\users\\win 10 pro\\appdata\\local\\programs\\python\\python310\\lib\\site-packages (from torch) (3.1)\n",
      "Requirement already satisfied: sympy in c:\\users\\win 10 pro\\appdata\\local\\programs\\python\\python310\\lib\\site-packages (from torch) (1.12)\n",
      "Requirement already satisfied: filelock in c:\\users\\win 10 pro\\appdata\\local\\programs\\python\\python310\\lib\\site-packages (from torch) (3.12.2)\n",
      "Requirement already satisfied: jinja2 in c:\\users\\win 10 pro\\appdata\\local\\programs\\python\\python310\\lib\\site-packages (from torch) (3.1.2)\n",
      "Requirement already satisfied: typing-extensions in c:\\users\\win 10 pro\\appdata\\local\\programs\\python\\python310\\lib\\site-packages (from torch) (4.7.1)\n",
      "Requirement already satisfied: MarkupSafe>=2.0 in c:\\users\\win 10 pro\\appdata\\local\\programs\\python\\python310\\lib\\site-packages (from jinja2->torch) (2.1.3)\n",
      "Requirement already satisfied: mpmath>=0.19 in c:\\users\\win 10 pro\\appdata\\local\\programs\\python\\python310\\lib\\site-packages (from sympy->torch) (1.3.0)\n"
     ]
    },
    {
     "name": "stderr",
     "output_type": "stream",
     "text": [
      "\n",
      "[notice] A new release of pip is available: 23.0.1 -> 23.2\n",
      "[notice] To update, run: python.exe -m pip install --upgrade pip\n"
     ]
    },
    {
     "name": "stdout",
     "output_type": "stream",
     "text": [
      "Requirement already satisfied: transformers in c:\\users\\win 10 pro\\appdata\\local\\programs\\python\\python310\\lib\\site-packages (4.30.2)\n",
      "Requirement already satisfied: huggingface-hub<1.0,>=0.14.1 in c:\\users\\win 10 pro\\appdata\\local\\programs\\python\\python310\\lib\\site-packages (from transformers) (0.16.4)\n",
      "Requirement already satisfied: filelock in c:\\users\\win 10 pro\\appdata\\local\\programs\\python\\python310\\lib\\site-packages (from transformers) (3.12.2)\n",
      "Requirement already satisfied: safetensors>=0.3.1 in c:\\users\\win 10 pro\\appdata\\local\\programs\\python\\python310\\lib\\site-packages (from transformers) (0.3.1)\n",
      "Requirement already satisfied: numpy>=1.17 in c:\\users\\win 10 pro\\appdata\\local\\programs\\python\\python310\\lib\\site-packages (from transformers) (1.25.1)\n",
      "Requirement already satisfied: regex!=2019.12.17 in c:\\users\\win 10 pro\\appdata\\local\\programs\\python\\python310\\lib\\site-packages (from transformers) (2023.6.3)\n",
      "Requirement already satisfied: tqdm>=4.27 in c:\\users\\win 10 pro\\appdata\\local\\programs\\python\\python310\\lib\\site-packages (from transformers) (4.65.0)\n",
      "Requirement already satisfied: packaging>=20.0 in c:\\users\\win 10 pro\\appdata\\roaming\\python\\python310\\site-packages (from transformers) (23.1)\n",
      "Requirement already satisfied: tokenizers!=0.11.3,<0.14,>=0.11.1 in c:\\users\\win 10 pro\\appdata\\local\\programs\\python\\python310\\lib\\site-packages (from transformers) (0.13.3)\n",
      "Requirement already satisfied: requests in c:\\users\\win 10 pro\\appdata\\local\\programs\\python\\python310\\lib\\site-packages (from transformers) (2.31.0)\n",
      "Requirement already satisfied: pyyaml>=5.1 in c:\\users\\win 10 pro\\appdata\\local\\programs\\python\\python310\\lib\\site-packages (from transformers) (6.0)\n",
      "Requirement already satisfied: typing-extensions>=3.7.4.3 in c:\\users\\win 10 pro\\appdata\\local\\programs\\python\\python310\\lib\\site-packages (from huggingface-hub<1.0,>=0.14.1->transformers) (4.7.1)\n",
      "Requirement already satisfied: fsspec in c:\\users\\win 10 pro\\appdata\\local\\programs\\python\\python310\\lib\\site-packages (from huggingface-hub<1.0,>=0.14.1->transformers) (2023.6.0)\n",
      "Requirement already satisfied: colorama in c:\\users\\win 10 pro\\appdata\\roaming\\python\\python310\\site-packages (from tqdm>=4.27->transformers) (0.4.6)\n",
      "Requirement already satisfied: certifi>=2017.4.17 in c:\\users\\win 10 pro\\appdata\\local\\programs\\python\\python310\\lib\\site-packages (from requests->transformers) (2023.5.7)\n",
      "Requirement already satisfied: charset-normalizer<4,>=2 in c:\\users\\win 10 pro\\appdata\\local\\programs\\python\\python310\\lib\\site-packages (from requests->transformers) (3.2.0)\n",
      "Requirement already satisfied: idna<4,>=2.5 in c:\\users\\win 10 pro\\appdata\\local\\programs\\python\\python310\\lib\\site-packages (from requests->transformers) (3.4)\n",
      "Requirement already satisfied: urllib3<3,>=1.21.1 in c:\\users\\win 10 pro\\appdata\\local\\programs\\python\\python310\\lib\\site-packages (from requests->transformers) (2.0.3)\n"
     ]
    },
    {
     "name": "stderr",
     "output_type": "stream",
     "text": [
      "\n",
      "[notice] A new release of pip is available: 23.0.1 -> 23.2\n",
      "[notice] To update, run: python.exe -m pip install --upgrade pip\n"
     ]
    },
    {
     "name": "stdout",
     "output_type": "stream",
     "text": [
      "Requirement already satisfied: scikit-learn in c:\\users\\win 10 pro\\appdata\\local\\programs\\python\\python310\\lib\\site-packages (1.3.0)\n",
      "Requirement already satisfied: numpy>=1.17.3 in c:\\users\\win 10 pro\\appdata\\local\\programs\\python\\python310\\lib\\site-packages (from scikit-learn) (1.25.1)\n",
      "Requirement already satisfied: scipy>=1.5.0 in c:\\users\\win 10 pro\\appdata\\local\\programs\\python\\python310\\lib\\site-packages (from scikit-learn) (1.11.1)\n",
      "Requirement already satisfied: threadpoolctl>=2.0.0 in c:\\users\\win 10 pro\\appdata\\local\\programs\\python\\python310\\lib\\site-packages (from scikit-learn) (3.2.0)\n",
      "Requirement already satisfied: joblib>=1.1.1 in c:\\users\\win 10 pro\\appdata\\local\\programs\\python\\python310\\lib\\site-packages (from scikit-learn) (1.3.1)\n"
     ]
    },
    {
     "name": "stderr",
     "output_type": "stream",
     "text": [
      "\n",
      "[notice] A new release of pip is available: 23.0.1 -> 23.2\n",
      "[notice] To update, run: python.exe -m pip install --upgrade pip\n"
     ]
    },
    {
     "name": "stdout",
     "output_type": "stream",
     "text": [
      "Requirement already satisfied: scipy in c:\\users\\win 10 pro\\appdata\\local\\programs\\python\\python310\\lib\\site-packages (1.11.1)\n",
      "Requirement already satisfied: numpy<1.28.0,>=1.21.6 in c:\\users\\win 10 pro\\appdata\\local\\programs\\python\\python310\\lib\\site-packages (from scipy) (1.25.1)\n"
     ]
    },
    {
     "name": "stderr",
     "output_type": "stream",
     "text": [
      "\n",
      "[notice] A new release of pip is available: 23.0.1 -> 23.2\n",
      "[notice] To update, run: python.exe -m pip install --upgrade pip\n"
     ]
    },
    {
     "name": "stdout",
     "output_type": "stream",
     "text": [
      "Requirement already satisfied: sentence_transformers in c:\\users\\win 10 pro\\appdata\\local\\programs\\python\\python310\\lib\\site-packages (2.2.2)\n",
      "Requirement already satisfied: transformers<5.0.0,>=4.6.0 in c:\\users\\win 10 pro\\appdata\\local\\programs\\python\\python310\\lib\\site-packages (from sentence_transformers) (4.30.2)\n",
      "Requirement already satisfied: tqdm in c:\\users\\win 10 pro\\appdata\\local\\programs\\python\\python310\\lib\\site-packages (from sentence_transformers) (4.65.0)\n",
      "Requirement already satisfied: torch>=1.6.0 in c:\\users\\win 10 pro\\appdata\\local\\programs\\python\\python310\\lib\\site-packages (from sentence_transformers) (2.0.1)\n",
      "Requirement already satisfied: torchvision in c:\\users\\win 10 pro\\appdata\\local\\programs\\python\\python310\\lib\\site-packages (from sentence_transformers) (0.15.2)\n",
      "Requirement already satisfied: numpy in c:\\users\\win 10 pro\\appdata\\local\\programs\\python\\python310\\lib\\site-packages (from sentence_transformers) (1.25.1)\n",
      "Requirement already satisfied: scikit-learn in c:\\users\\win 10 pro\\appdata\\local\\programs\\python\\python310\\lib\\site-packages (from sentence_transformers) (1.3.0)\n",
      "Requirement already satisfied: scipy in c:\\users\\win 10 pro\\appdata\\local\\programs\\python\\python310\\lib\\site-packages (from sentence_transformers) (1.11.1)\n",
      "Requirement already satisfied: nltk in c:\\users\\win 10 pro\\appdata\\local\\programs\\python\\python310\\lib\\site-packages (from sentence_transformers) (3.8.1)\n",
      "Requirement already satisfied: sentencepiece in c:\\users\\win 10 pro\\appdata\\local\\programs\\python\\python310\\lib\\site-packages (from sentence_transformers) (0.1.99)\n",
      "Requirement already satisfied: huggingface-hub>=0.4.0 in c:\\users\\win 10 pro\\appdata\\local\\programs\\python\\python310\\lib\\site-packages (from sentence_transformers) (0.16.4)\n",
      "Requirement already satisfied: packaging>=20.9 in c:\\users\\win 10 pro\\appdata\\roaming\\python\\python310\\site-packages (from huggingface-hub>=0.4.0->sentence_transformers) (23.1)\n",
      "Requirement already satisfied: requests in c:\\users\\win 10 pro\\appdata\\local\\programs\\python\\python310\\lib\\site-packages (from huggingface-hub>=0.4.0->sentence_transformers) (2.31.0)\n",
      "Requirement already satisfied: typing-extensions>=3.7.4.3 in c:\\users\\win 10 pro\\appdata\\local\\programs\\python\\python310\\lib\\site-packages (from huggingface-hub>=0.4.0->sentence_transformers) (4.7.1)\n",
      "Requirement already satisfied: filelock in c:\\users\\win 10 pro\\appdata\\local\\programs\\python\\python310\\lib\\site-packages (from huggingface-hub>=0.4.0->sentence_transformers) (3.12.2)\n",
      "Requirement already satisfied: pyyaml>=5.1 in c:\\users\\win 10 pro\\appdata\\local\\programs\\python\\python310\\lib\\site-packages (from huggingface-hub>=0.4.0->sentence_transformers) (6.0)\n",
      "Requirement already satisfied: fsspec in c:\\users\\win 10 pro\\appdata\\local\\programs\\python\\python310\\lib\\site-packages (from huggingface-hub>=0.4.0->sentence_transformers) (2023.6.0)\n",
      "Requirement already satisfied: jinja2 in c:\\users\\win 10 pro\\appdata\\local\\programs\\python\\python310\\lib\\site-packages (from torch>=1.6.0->sentence_transformers) (3.1.2)\n",
      "Requirement already satisfied: sympy in c:\\users\\win 10 pro\\appdata\\local\\programs\\python\\python310\\lib\\site-packages (from torch>=1.6.0->sentence_transformers) (1.12)\n",
      "Requirement already satisfied: networkx in c:\\users\\win 10 pro\\appdata\\local\\programs\\python\\python310\\lib\\site-packages (from torch>=1.6.0->sentence_transformers) (3.1)\n",
      "Requirement already satisfied: colorama in c:\\users\\win 10 pro\\appdata\\roaming\\python\\python310\\site-packages (from tqdm->sentence_transformers) (0.4.6)\n",
      "Requirement already satisfied: tokenizers!=0.11.3,<0.14,>=0.11.1 in c:\\users\\win 10 pro\\appdata\\local\\programs\\python\\python310\\lib\\site-packages (from transformers<5.0.0,>=4.6.0->sentence_transformers) (0.13.3)\n",
      "Requirement already satisfied: safetensors>=0.3.1 in c:\\users\\win 10 pro\\appdata\\local\\programs\\python\\python310\\lib\\site-packages (from transformers<5.0.0,>=4.6.0->sentence_transformers) (0.3.1)\n",
      "Requirement already satisfied: regex!=2019.12.17 in c:\\users\\win 10 pro\\appdata\\local\\programs\\python\\python310\\lib\\site-packages (from transformers<5.0.0,>=4.6.0->sentence_transformers) (2023.6.3)\n",
      "Requirement already satisfied: click in c:\\users\\win 10 pro\\appdata\\local\\programs\\python\\python310\\lib\\site-packages (from nltk->sentence_transformers) (8.1.5)\n",
      "Requirement already satisfied: joblib in c:\\users\\win 10 pro\\appdata\\local\\programs\\python\\python310\\lib\\site-packages (from nltk->sentence_transformers) (1.3.1)\n",
      "Requirement already satisfied: threadpoolctl>=2.0.0 in c:\\users\\win 10 pro\\appdata\\local\\programs\\python\\python310\\lib\\site-packages (from scikit-learn->sentence_transformers) (3.2.0)\n",
      "Requirement already satisfied: pillow!=8.3.*,>=5.3.0 in c:\\users\\win 10 pro\\appdata\\local\\programs\\python\\python310\\lib\\site-packages (from torchvision->sentence_transformers) (10.0.0)\n",
      "Requirement already satisfied: MarkupSafe>=2.0 in c:\\users\\win 10 pro\\appdata\\local\\programs\\python\\python310\\lib\\site-packages (from jinja2->torch>=1.6.0->sentence_transformers) (2.1.3)\n",
      "Requirement already satisfied: idna<4,>=2.5 in c:\\users\\win 10 pro\\appdata\\local\\programs\\python\\python310\\lib\\site-packages (from requests->huggingface-hub>=0.4.0->sentence_transformers) (3.4)\n",
      "Requirement already satisfied: certifi>=2017.4.17 in c:\\users\\win 10 pro\\appdata\\local\\programs\\python\\python310\\lib\\site-packages (from requests->huggingface-hub>=0.4.0->sentence_transformers) (2023.5.7)\n",
      "Requirement already satisfied: urllib3<3,>=1.21.1 in c:\\users\\win 10 pro\\appdata\\local\\programs\\python\\python310\\lib\\site-packages (from requests->huggingface-hub>=0.4.0->sentence_transformers) (2.0.3)\n",
      "Requirement already satisfied: charset-normalizer<4,>=2 in c:\\users\\win 10 pro\\appdata\\local\\programs\\python\\python310\\lib\\site-packages (from requests->huggingface-hub>=0.4.0->sentence_transformers) (3.2.0)\n",
      "Requirement already satisfied: mpmath>=0.19 in c:\\users\\win 10 pro\\appdata\\local\\programs\\python\\python310\\lib\\site-packages (from sympy->torch>=1.6.0->sentence_transformers) (1.3.0)\n"
     ]
    },
    {
     "name": "stderr",
     "output_type": "stream",
     "text": [
      "\n",
      "[notice] A new release of pip is available: 23.0.1 -> 23.2\n",
      "[notice] To update, run: python.exe -m pip install --upgrade pip\n"
     ]
    },
    {
     "name": "stdout",
     "output_type": "stream",
     "text": [
      "Requirement already satisfied: plotly in c:\\users\\win 10 pro\\appdata\\local\\programs\\python\\python310\\lib\\site-packages (5.15.0)\n",
      "Requirement already satisfied: tenacity>=6.2.0 in c:\\users\\win 10 pro\\appdata\\local\\programs\\python\\python310\\lib\\site-packages (from plotly) (8.2.2)\n",
      "Requirement already satisfied: packaging in c:\\users\\win 10 pro\\appdata\\roaming\\python\\python310\\site-packages (from plotly) (23.1)\n"
     ]
    },
    {
     "name": "stderr",
     "output_type": "stream",
     "text": [
      "\n",
      "[notice] A new release of pip is available: 23.0.1 -> 23.2\n",
      "[notice] To update, run: python.exe -m pip install --upgrade pip\n"
     ]
    },
    {
     "name": "stdout",
     "output_type": "stream",
     "text": [
      "Requirement already satisfied: networkx in c:\\users\\win 10 pro\\appdata\\local\\programs\\python\\python310\\lib\\site-packages (3.1)\n"
     ]
    },
    {
     "name": "stderr",
     "output_type": "stream",
     "text": [
      "\n",
      "[notice] A new release of pip is available: 23.0.1 -> 23.2\n",
      "[notice] To update, run: python.exe -m pip install --upgrade pip\n"
     ]
    }
   ],
   "source": [
    "!pip install numpy\n",
    "!pip install pandas\n",
    "!pip install matplotlib\n",
    "!pip install torch\n",
    "!pip install transformers\n",
    "!pip install scikit-learn\n",
    "!pip install scipy\n",
    "!pip install sentence_transformers\n",
    "!pip install plotly\n",
    "!pip install networkx"
   ]
  },
  {
   "cell_type": "code",
   "execution_count": 36,
   "metadata": {},
   "outputs": [],
   "source": [
    "import numpy as np\n",
    "import pandas as pd\n",
    "import torch\n",
    "from transformers import BertTokenizer, BertModel\n",
    "from sklearn.metrics.pairwise import cosine_similarity\n",
    "from scipy.stats import pearsonr\n",
    "import pandas as pd\n",
    "from sentence_transformers import SentenceTransformer, util\n"
   ]
  },
  {
   "cell_type": "code",
   "execution_count": 37,
   "metadata": {},
   "outputs": [
    {
     "name": "stderr",
     "output_type": "stream",
     "text": [
      "Some weights of the model checkpoint at bert-base-cased were not used when initializing BertModel: ['cls.seq_relationship.weight', 'cls.predictions.bias', 'cls.predictions.transform.dense.weight', 'cls.predictions.transform.dense.bias', 'cls.predictions.transform.LayerNorm.bias', 'cls.seq_relationship.bias', 'cls.predictions.transform.LayerNorm.weight']\n",
      "- This IS expected if you are initializing BertModel from the checkpoint of a model trained on another task or with another architecture (e.g. initializing a BertForSequenceClassification model from a BertForPreTraining model).\n",
      "- This IS NOT expected if you are initializing BertModel from the checkpoint of a model that you expect to be exactly identical (initializing a BertForSequenceClassification model from a BertForSequenceClassification model).\n"
     ]
    },
    {
     "data": {
      "text/plain": [
       "0.7008986473083496"
      ]
     },
     "execution_count": 37,
     "metadata": {},
     "output_type": "execute_result"
    }
   ],
   "source": [
    "tokenizer = BertTokenizer.from_pretrained('bert-base-cased')\n",
    "model = BertModel.from_pretrained('bert-base-cased', output_hidden_states=True)\n",
    "def get_similarity(text1, text2, model, tokenizer):\n",
    "    # encode the text\n",
    "    text1 = text1.lower()\n",
    "    text2 = text2.lower()\n",
    "    encoded_input1 = tokenizer(text1, return_tensors='pt')\n",
    "    encoded_input2 = tokenizer(text2, return_tensors='pt')\n",
    "    # get the output\n",
    "    output1 = model(**encoded_input1)\n",
    "    output2 = model(**encoded_input2)\n",
    "    # multipy the over the sequence\n",
    "    out_mul1 = 1\n",
    "    out_mul2 = 1\n",
    "    for i, vec in enumerate(output1[0].squeeze()):\n",
    "        # don't take the first and last token\n",
    "        if i == 0 or i == len(output1[0].squeeze())-1:\n",
    "            continue\n",
    "        out_mul1 = out_mul1+vec\n",
    "    for i, vec in enumerate(output2[0].squeeze()):\n",
    "        if i == 0 or i == len(output1[0].squeeze())-1:\n",
    "            continue\n",
    "        out_mul2 = out_mul2+vec\n",
    "    # normalize the output over the mean and std\n",
    "    out_mul1 = (out_mul1-out_mul1.mean())/out_mul1.std()\n",
    "    out_mul2 = (out_mul2-out_mul2.mean())/out_mul2.std()\n",
    "    return(cosine_similarity([out_mul1.detach().numpy()], [out_mul2.detach().numpy()]).item())\n",
    "\n",
    "get_similarity(\"apples are my favourite fruit\", \"you love apples\", model, tokenizer)"
   ]
  },
  {
   "cell_type": "markdown",
   "metadata": {},
   "source": [
    "<h3>Second Method</h3>\n",
    "<p>The second method uses sentence_transformers which is based on the paper Sentence-BERT: Sentence Embeddings using Siamese BERT-Networks which use a siamese network structure on top of BERT to derive semantically meaningful sentence embeddings.</p>"
   ]
  },
  {
   "cell_type": "code",
   "execution_count": 38,
   "metadata": {},
   "outputs": [],
   "source": [
    "model_sentence = SentenceTransformer('multi-qa-MiniLM-L6-cos-v1')\n",
    "def get_similarity_sentence_transformers(text1, text2, model_sentence):\n",
    "    query_embedding = model_sentence.encode(text1)\n",
    "    passage_embedding = model_sentence.encode(text2)\n",
    "    return(util.dot_score(query_embedding, passage_embedding).item())\n"
   ]
  },
  {
   "cell_type": "code",
   "execution_count": 39,
   "metadata": {},
   "outputs": [
    {
     "data": {
      "text/plain": [
       "0.8118329048156738"
      ]
     },
     "execution_count": 39,
     "metadata": {},
     "output_type": "execute_result"
    }
   ],
   "source": [
    "get_similarity_sentence_transformers(\"apples are my favourite fruit\", \"I love apples\",model_sentence)"
   ]
  },
  {
   "cell_type": "markdown",
   "metadata": {},
   "source": [
    "<h2>Evaluation</h2>"
   ]
  },
  {
   "cell_type": "markdown",
   "metadata": {},
   "source": [
    "For the evaluation we will use the dataset \"SemEval STS Task - multiple years, each covers a bunch of topics that share the same precise similarity metric definition\" which can be found here https://github.com/brmson/dataset-sts , we will only use the 2012 version for training."
   ]
  },
  {
   "cell_type": "code",
   "execution_count": 40,
   "metadata": {},
   "outputs": [],
   "source": [
    "# read tsv txt file\n",
    "data = []\n",
    "open_file = open(\"MSRpar.txt\", \"r\")\n",
    "with open_file as f:\n",
    "    for i, line in enumerate(f):\n",
    "        data.append([])\n",
    "        split_line = line.split(\"\\t\")\n",
    "        data[i].append(split_line)\n",
    "np_data = np.array(data)\n",
    "np_data = np.squeeze(np_data, axis=1)\n",
    "df = pd.DataFrame(np_data, columns=[\"Quality\", \"Sentence1\", \"Sentence2\"])\n",
    "# normalize quality between 0 and 1\n",
    "df[\"Quality\"] = df[\"Quality\"].astype(float)\n",
    "df[\"Quality\"] = (df[\"Quality\"] - df[\"Quality\"].min()) / (df[\"Quality\"].max() - df[\"Quality\"].min())"
   ]
  },
  {
   "cell_type": "code",
   "execution_count": 41,
   "metadata": {},
   "outputs": [],
   "source": [
    "# Evaluting first method\n",
    "first_method = []\n",
    "for i, row in df.iterrows():\n",
    "    first_method.append(get_similarity(row[\"Sentence1\"], row[\"Sentence2\"], model, tokenizer))\n",
    "df[\"First Method\"] = first_method"
   ]
  },
  {
   "cell_type": "code",
   "execution_count": 42,
   "metadata": {},
   "outputs": [],
   "source": [
    "second_method = []\n",
    "for i, row in df.iterrows():\n",
    "    second_method.append(get_similarity_sentence_transformers(row[\"Sentence1\"], row[\"Sentence2\"], model_sentence))\n",
    "df[\"Second Method\"] = second_method"
   ]
  },
  {
   "cell_type": "code",
   "execution_count": 43,
   "metadata": {},
   "outputs": [],
   "source": [
    "# normalize the two methods between 0 and 1\n",
    "df[\"First Method Norm\"] = (df[\"First Method\"] - df[\"First Method\"].min()) / (df[\"First Method\"].max() - df[\"First Method\"].min())\n",
    "df[\"Second Method Norm\"] = (df[\"Second Method\"] - df[\"Second Method\"].min()) / (df[\"Second Method\"].max() - df[\"Second Method\"].min())"
   ]
  },
  {
   "cell_type": "code",
   "execution_count": 44,
   "metadata": {},
   "outputs": [
    {
     "name": "stdout",
     "output_type": "stream",
     "text": [
      "Mean squared error for the first method 0.05139338458375586\n",
      "Mean squared error for the Second method 0.04185717752027718\n",
      "Correlation for the first method PearsonRResult(statistic=0.36420126612506554, pvalue=6.107832628014426e-25)\n",
      "Correlation for the Second method PearsonRResult(statistic=0.5038897340497289, pvalue=1.5341131349433133e-49)\n"
     ]
    }
   ],
   "source": [
    "# calculate mean squared error\n",
    "from sklearn.metrics import mean_squared_error\n",
    "print(\"Mean squared error for the first method\", mean_squared_error(df[\"Quality\"], df[\"First Method Norm\"]))\n",
    "print(\"Mean squared error for the Second method\", mean_squared_error(df[\"Quality\"], df[\"Second Method Norm\"]))\n",
    "# calculate pearson correlation\n",
    "print(\"Correlation for the first method\", pearsonr(df[\"Quality\"], df[\"First Method Norm\"]))\n",
    "print(\"Correlation for the Second method\", pearsonr(df[\"Quality\"], df[\"Second Method Norm\"]))"
   ]
  },
  {
   "cell_type": "markdown",
   "metadata": {},
   "source": [
    "Looks like the second method is the better similarity estimate, now let's go to the second part of the project and make a graph representing the similarity"
   ]
  },
  {
   "cell_type": "markdown",
   "metadata": {},
   "source": [
    "# Part Two: Graph Construction"
   ]
  },
  {
   "cell_type": "code",
   "execution_count": 45,
   "metadata": {},
   "outputs": [],
   "source": [
    "import networkx as nx\n",
    "from matplotlib import pyplot as plt\n",
    "import plotly.graph_objects as go"
   ]
  },
  {
   "cell_type": "code",
   "execution_count": 46,
   "metadata": {},
   "outputs": [
    {
     "name": "stdout",
     "output_type": "stream",
     "text": [
      "['Shakespeare was a famous 17th-century diesel mechanic.', \"She learned that water bottles are no longer just to hold liquid, but they're also status symbols.\", 'When he encountered maize for the first time, he thought it incredibly corny.', 'Flash photography is best used in full sunlight.', 'Traveling became almost extinct during the pandemic.', 'Abstraction is often one floor above you.', 'They wandered into a strange Tiki bar on the edge of the small beach town.', 'People generally approve of dogs eating cat food but not cats eating dog food.', \"He was 100% into fasting with her until he understood that meant he couldn't eat.\", 'He went back to the video to see what had been recorded and was shocked at what he saw.', 'The clock within this blog and the clock on my laptop are 1 hour different from each other.', 'She opened up her third bottle of wine of the night.', \"I've never seen a more beautiful brandy glass filled with wine.\", 'I want more detailed information.', 'The truth is that you pay for your lifestyle in hours.', \"The body piercing didn't go exactly as he expected.\", 'Mom didnâ€™t understand why no one else wanted a hot tub full of jello.', 'In hopes of finding out the truth, he entered the one-room library.', 'Carol drank the blood as if she were a vampire.', 'This is a Japanese doll.']\n"
     ]
    }
   ],
   "source": [
    "# read a txt file and divide it into sentences\n",
    "path = input(\"Enter the path of the file: \")\n",
    "open_file = open(path, \"r\")\n",
    "with open_file as f:\n",
    "    sentences = f.readlines()\n",
    "    # remove whitespace characters like `\\n` at the end of each line\n",
    "    sentences = [x.strip() for x in sentences]\n",
    "print(sentences)"
   ]
  },
  {
   "cell_type": "code",
   "execution_count": 47,
   "metadata": {},
   "outputs": [],
   "source": [
    "# create a similarity matrix\n",
    "def similarity_matrix_create(sentences):\n",
    "    similarity_matrix = np.zeros((len(sentences), len(sentences)))\n",
    "    for i, sentence1 in enumerate(sentences):\n",
    "        for j, sentence2 in enumerate(sentences):\n",
    "            if i == j:\n",
    "                continue\n",
    "            else:\n",
    "                similarity = get_similarity_sentence_transformers(sentence1, sentence2, model_sentence)\n",
    "                similarity_matrix[i][j] = similarity\n",
    "    return(similarity_matrix)"
   ]
  },
  {
   "cell_type": "markdown",
   "metadata": {},
   "source": [
    "This code will construct a a graph with the sentences as nodes and the similarity as edges, you can read the sentences be hovering over the nodes."
   ]
  },
  {
   "cell_type": "code",
   "execution_count": 48,
   "metadata": {},
   "outputs": [
    {
     "data": {
      "application/vnd.plotly.v1+json": {
       "config": {
        "plotlyServerURL": "https://plot.ly"
       },
       "data": [
        {
         "hoverinfo": "none",
         "line": {
          "color": "#888",
          "width": 0.5
         },
         "mode": "lines",
         "type": "scatter",
         "x": [
          -0.6947447597016,
          -0.18858338195406427,
          null,
          0.22268807685490025,
          0.13690520565845296,
          null,
          0.22268807685490025,
          0.3086909097498583,
          null,
          0.22268807685490025,
          -0.18858338195406427,
          null,
          0.22268807685490025,
          0.44591572527072193,
          null,
          -0.42102331884533584,
          -0.18858338195406427,
          null,
          -0.42102331884533584,
          -0.15599349630199796,
          null,
          0.13690520565845296,
          0.3086909097498583,
          null,
          0.13690520565845296,
          -0.18858338195406427,
          null,
          0.13690520565845296,
          0.4418105531563603,
          null,
          0.13690520565845296,
          -0.15599349630199796,
          null,
          0.13690520565845296,
          0.44591572527072193,
          null,
          0.3086909097498583,
          -0.18858338195406427,
          null,
          0.3086909097498583,
          0.4418105531563603,
          null,
          0.3086909097498583,
          0.44591572527072193,
          null,
          -0.18858338195406427,
          -0.7215909239846322,
          null,
          -0.18858338195406427,
          -0.15599349630199796,
          null,
          -0.18858338195406427,
          0.44591572527072193,
          null,
          -0.18858338195406427,
          -0.3740745899026648,
          null,
          1,
          0.44591572527072193,
          null
         ],
         "y": [
          0.24129728610416226,
          -0.0020255756468084848,
          null,
          -0.15648527782844712,
          0.06972980969942932,
          null,
          -0.15648527782844712,
          0.20277758750708313,
          null,
          -0.15648527782844712,
          -0.0020255756468084848,
          null,
          -0.15648527782844712,
          -0.07098162399803885,
          null,
          -0.5330469490940483,
          -0.0020255756468084848,
          null,
          -0.5330469490940483,
          -0.34056847480228036,
          null,
          0.06972980969942932,
          0.20277758750708313,
          null,
          0.06972980969942932,
          -0.0020255756468084848,
          null,
          0.06972980969942932,
          0.5122654226224725,
          null,
          0.06972980969942932,
          -0.34056847480228036,
          null,
          0.06972980969942932,
          -0.07098162399803885,
          null,
          0.20277758750708313,
          -0.0020255756468084848,
          null,
          0.20277758750708313,
          0.5122654226224725,
          null,
          0.20277758750708313,
          -0.07098162399803885,
          null,
          -0.0020255756468084848,
          -0.15275297448980454,
          null,
          -0.0020255756468084848,
          -0.34056847480228036,
          null,
          -0.0020255756468084848,
          -0.07098162399803885,
          null,
          -0.0020255756468084848,
          0.4319999463153667,
          null,
          -0.2022091763890861,
          -0.07098162399803885,
          null
         ]
        },
        {
         "hovertemplate": "%{hovertext}",
         "hovertext": [
          "She learned that water bottles are no longer just to hold liquid, but they're also status symbols.",
          "When he encountered maize for the first time, he thought it incredibly corny.",
          "They wandered into a strange Tiki bar on the edge of the small beach town.",
          "He was 100% into fasting with her until he understood that meant he couldn't eat.",
          "He went back to the video to see what had been recorded and was shocked at what he saw.",
          "She opened up her third bottle of wine of the night.",
          "I've never seen a more beautiful brandy glass filled with wine.",
          "I want more detailed information.",
          "The body piercing didn't go exactly as he expected.",
          "Mom didnâ€™t understand why no one else wanted a hot tub full of jello.",
          "In hopes of finding out the truth, he entered the one-room library.",
          "Carol drank the blood as if she were a vampire."
         ],
         "marker": {
          "color": [],
          "colorbar": {
           "thickness": 15,
           "title": {
            "side": "right",
            "text": "Node Connections"
           },
           "xanchor": "left"
          },
          "colorscale": [
           [
            0,
            "rgb(255,255,217)"
           ],
           [
            0.125,
            "rgb(237,248,177)"
           ],
           [
            0.25,
            "rgb(199,233,180)"
           ],
           [
            0.375,
            "rgb(127,205,187)"
           ],
           [
            0.5,
            "rgb(65,182,196)"
           ],
           [
            0.625,
            "rgb(29,145,192)"
           ],
           [
            0.75,
            "rgb(34,94,168)"
           ],
           [
            0.875,
            "rgb(37,52,148)"
           ],
           [
            1,
            "rgb(8,29,88)"
           ]
          ],
          "line": {
           "width": 2
          },
          "reversescale": true,
          "showscale": false,
          "size": 10
         },
         "mode": "markers",
         "type": "scatter",
         "x": [
          -0.6947447597016,
          0.22268807685490025,
          -0.42102331884533584,
          0.13690520565845296,
          0.3086909097498583,
          -0.18858338195406427,
          -0.7215909239846322,
          1,
          0.4418105531563603,
          -0.15599349630199796,
          0.44591572527072193,
          -0.3740745899026648
         ],
         "y": [
          0.24129728610416226,
          -0.15648527782844712,
          -0.5330469490940483,
          0.06972980969942932,
          0.20277758750708313,
          -0.0020255756468084848,
          -0.15275297448980454,
          -0.2022091763890861,
          0.5122654226224725,
          -0.34056847480228036,
          -0.07098162399803885,
          0.4319999463153667
         ]
        }
       ],
       "layout": {
        "annotations": [
         {
          "font": {
           "color": "red",
           "size": 10
          },
          "showarrow": false,
          "text": "0.38",
          "x": -0.4416640708278321,
          "y": 0.11963585522867688
         },
         {
          "font": {
           "color": "red",
           "size": 10
          },
          "showarrow": false,
          "text": "0.50",
          "x": 0.1797966412566766,
          "y": -0.0433777340645089
         },
         {
          "font": {
           "color": "red",
           "size": 10
          },
          "showarrow": false,
          "text": "0.35",
          "x": 0.2656894933023793,
          "y": 0.023146154839318006
         },
         {
          "font": {
           "color": "red",
           "size": 10
          },
          "showarrow": false,
          "text": "0.32",
          "x": 0.01705234745041799,
          "y": -0.07925542673762781
         },
         {
          "font": {
           "color": "red",
           "size": 10
          },
          "showarrow": false,
          "text": "0.38",
          "x": 0.3343019010628111,
          "y": -0.113733450913243
         },
         {
          "font": {
           "color": "red",
           "size": 10
          },
          "showarrow": false,
          "text": "0.30",
          "x": -0.3048033503997001,
          "y": -0.2675362623704284
         },
         {
          "font": {
           "color": "red",
           "size": 10
          },
          "showarrow": false,
          "text": "0.30",
          "x": -0.2885084075736669,
          "y": -0.4368077119481643
         },
         {
          "font": {
           "color": "red",
           "size": 10
          },
          "showarrow": false,
          "text": "0.34",
          "x": 0.22279805770415562,
          "y": 0.13625369860325623
         },
         {
          "font": {
           "color": "red",
           "size": 10
          },
          "showarrow": false,
          "text": "0.42",
          "x": -0.025839088147805653,
          "y": 0.03385211702631042
         },
         {
          "font": {
           "color": "red",
           "size": 10
          },
          "showarrow": false,
          "text": "0.33",
          "x": 0.28935787940740665,
          "y": 0.29099761616095093
         },
         {
          "font": {
           "color": "red",
           "size": 10
          },
          "showarrow": false,
          "text": "0.32",
          "x": -0.009544145321772501,
          "y": -0.13541933255142552
         },
         {
          "font": {
           "color": "red",
           "size": 10
          },
          "showarrow": false,
          "text": "0.32",
          "x": 0.29141046546458743,
          "y": -0.0006259071493047649
         },
         {
          "font": {
           "color": "red",
           "size": 10
          },
          "showarrow": false,
          "text": "0.32",
          "x": 0.06005376389789702,
          "y": 0.10037600593013732
         },
         {
          "font": {
           "color": "red",
           "size": 10
          },
          "showarrow": false,
          "text": "0.36",
          "x": 0.3752507314531093,
          "y": 0.35752150506477787
         },
         {
          "font": {
           "color": "red",
           "size": 10
          },
          "showarrow": false,
          "text": "0.45",
          "x": 0.3773033175102901,
          "y": 0.06589798175452213
         },
         {
          "font": {
           "color": "red",
           "size": 10
          },
          "showarrow": false,
          "text": "0.38",
          "x": -0.4550871529693482,
          "y": -0.07738927506830652
         },
         {
          "font": {
           "color": "red",
           "size": 10
          },
          "showarrow": false,
          "text": "0.43",
          "x": -0.1722884391280311,
          "y": -0.17129702522454443
         },
         {
          "font": {
           "color": "red",
           "size": 10
          },
          "showarrow": false,
          "text": "0.42",
          "x": 0.12866617165832883,
          "y": -0.03650359982242367
         },
         {
          "font": {
           "color": "red",
           "size": 10
          },
          "showarrow": false,
          "text": "0.50",
          "x": -0.28132898592836453,
          "y": 0.2149871853342791
         },
         {
          "font": {
           "color": "red",
           "size": 10
          },
          "showarrow": false,
          "text": "0.33",
          "x": 0.722957862635361,
          "y": -0.13659540019356248
         }
        ],
        "hovermode": "closest",
        "margin": {
         "b": 20,
         "l": 5,
         "r": 5,
         "t": 40
        },
        "showlegend": false,
        "template": {
         "data": {
          "bar": [
           {
            "error_x": {
             "color": "#2a3f5f"
            },
            "error_y": {
             "color": "#2a3f5f"
            },
            "marker": {
             "line": {
              "color": "#E5ECF6",
              "width": 0.5
             },
             "pattern": {
              "fillmode": "overlay",
              "size": 10,
              "solidity": 0.2
             }
            },
            "type": "bar"
           }
          ],
          "barpolar": [
           {
            "marker": {
             "line": {
              "color": "#E5ECF6",
              "width": 0.5
             },
             "pattern": {
              "fillmode": "overlay",
              "size": 10,
              "solidity": 0.2
             }
            },
            "type": "barpolar"
           }
          ],
          "carpet": [
           {
            "aaxis": {
             "endlinecolor": "#2a3f5f",
             "gridcolor": "white",
             "linecolor": "white",
             "minorgridcolor": "white",
             "startlinecolor": "#2a3f5f"
            },
            "baxis": {
             "endlinecolor": "#2a3f5f",
             "gridcolor": "white",
             "linecolor": "white",
             "minorgridcolor": "white",
             "startlinecolor": "#2a3f5f"
            },
            "type": "carpet"
           }
          ],
          "choropleth": [
           {
            "colorbar": {
             "outlinewidth": 0,
             "ticks": ""
            },
            "type": "choropleth"
           }
          ],
          "contour": [
           {
            "colorbar": {
             "outlinewidth": 0,
             "ticks": ""
            },
            "colorscale": [
             [
              0,
              "#0d0887"
             ],
             [
              0.1111111111111111,
              "#46039f"
             ],
             [
              0.2222222222222222,
              "#7201a8"
             ],
             [
              0.3333333333333333,
              "#9c179e"
             ],
             [
              0.4444444444444444,
              "#bd3786"
             ],
             [
              0.5555555555555556,
              "#d8576b"
             ],
             [
              0.6666666666666666,
              "#ed7953"
             ],
             [
              0.7777777777777778,
              "#fb9f3a"
             ],
             [
              0.8888888888888888,
              "#fdca26"
             ],
             [
              1,
              "#f0f921"
             ]
            ],
            "type": "contour"
           }
          ],
          "contourcarpet": [
           {
            "colorbar": {
             "outlinewidth": 0,
             "ticks": ""
            },
            "type": "contourcarpet"
           }
          ],
          "heatmap": [
           {
            "colorbar": {
             "outlinewidth": 0,
             "ticks": ""
            },
            "colorscale": [
             [
              0,
              "#0d0887"
             ],
             [
              0.1111111111111111,
              "#46039f"
             ],
             [
              0.2222222222222222,
              "#7201a8"
             ],
             [
              0.3333333333333333,
              "#9c179e"
             ],
             [
              0.4444444444444444,
              "#bd3786"
             ],
             [
              0.5555555555555556,
              "#d8576b"
             ],
             [
              0.6666666666666666,
              "#ed7953"
             ],
             [
              0.7777777777777778,
              "#fb9f3a"
             ],
             [
              0.8888888888888888,
              "#fdca26"
             ],
             [
              1,
              "#f0f921"
             ]
            ],
            "type": "heatmap"
           }
          ],
          "heatmapgl": [
           {
            "colorbar": {
             "outlinewidth": 0,
             "ticks": ""
            },
            "colorscale": [
             [
              0,
              "#0d0887"
             ],
             [
              0.1111111111111111,
              "#46039f"
             ],
             [
              0.2222222222222222,
              "#7201a8"
             ],
             [
              0.3333333333333333,
              "#9c179e"
             ],
             [
              0.4444444444444444,
              "#bd3786"
             ],
             [
              0.5555555555555556,
              "#d8576b"
             ],
             [
              0.6666666666666666,
              "#ed7953"
             ],
             [
              0.7777777777777778,
              "#fb9f3a"
             ],
             [
              0.8888888888888888,
              "#fdca26"
             ],
             [
              1,
              "#f0f921"
             ]
            ],
            "type": "heatmapgl"
           }
          ],
          "histogram": [
           {
            "marker": {
             "pattern": {
              "fillmode": "overlay",
              "size": 10,
              "solidity": 0.2
             }
            },
            "type": "histogram"
           }
          ],
          "histogram2d": [
           {
            "colorbar": {
             "outlinewidth": 0,
             "ticks": ""
            },
            "colorscale": [
             [
              0,
              "#0d0887"
             ],
             [
              0.1111111111111111,
              "#46039f"
             ],
             [
              0.2222222222222222,
              "#7201a8"
             ],
             [
              0.3333333333333333,
              "#9c179e"
             ],
             [
              0.4444444444444444,
              "#bd3786"
             ],
             [
              0.5555555555555556,
              "#d8576b"
             ],
             [
              0.6666666666666666,
              "#ed7953"
             ],
             [
              0.7777777777777778,
              "#fb9f3a"
             ],
             [
              0.8888888888888888,
              "#fdca26"
             ],
             [
              1,
              "#f0f921"
             ]
            ],
            "type": "histogram2d"
           }
          ],
          "histogram2dcontour": [
           {
            "colorbar": {
             "outlinewidth": 0,
             "ticks": ""
            },
            "colorscale": [
             [
              0,
              "#0d0887"
             ],
             [
              0.1111111111111111,
              "#46039f"
             ],
             [
              0.2222222222222222,
              "#7201a8"
             ],
             [
              0.3333333333333333,
              "#9c179e"
             ],
             [
              0.4444444444444444,
              "#bd3786"
             ],
             [
              0.5555555555555556,
              "#d8576b"
             ],
             [
              0.6666666666666666,
              "#ed7953"
             ],
             [
              0.7777777777777778,
              "#fb9f3a"
             ],
             [
              0.8888888888888888,
              "#fdca26"
             ],
             [
              1,
              "#f0f921"
             ]
            ],
            "type": "histogram2dcontour"
           }
          ],
          "mesh3d": [
           {
            "colorbar": {
             "outlinewidth": 0,
             "ticks": ""
            },
            "type": "mesh3d"
           }
          ],
          "parcoords": [
           {
            "line": {
             "colorbar": {
              "outlinewidth": 0,
              "ticks": ""
             }
            },
            "type": "parcoords"
           }
          ],
          "pie": [
           {
            "automargin": true,
            "type": "pie"
           }
          ],
          "scatter": [
           {
            "fillpattern": {
             "fillmode": "overlay",
             "size": 10,
             "solidity": 0.2
            },
            "type": "scatter"
           }
          ],
          "scatter3d": [
           {
            "line": {
             "colorbar": {
              "outlinewidth": 0,
              "ticks": ""
             }
            },
            "marker": {
             "colorbar": {
              "outlinewidth": 0,
              "ticks": ""
             }
            },
            "type": "scatter3d"
           }
          ],
          "scattercarpet": [
           {
            "marker": {
             "colorbar": {
              "outlinewidth": 0,
              "ticks": ""
             }
            },
            "type": "scattercarpet"
           }
          ],
          "scattergeo": [
           {
            "marker": {
             "colorbar": {
              "outlinewidth": 0,
              "ticks": ""
             }
            },
            "type": "scattergeo"
           }
          ],
          "scattergl": [
           {
            "marker": {
             "colorbar": {
              "outlinewidth": 0,
              "ticks": ""
             }
            },
            "type": "scattergl"
           }
          ],
          "scattermapbox": [
           {
            "marker": {
             "colorbar": {
              "outlinewidth": 0,
              "ticks": ""
             }
            },
            "type": "scattermapbox"
           }
          ],
          "scatterpolar": [
           {
            "marker": {
             "colorbar": {
              "outlinewidth": 0,
              "ticks": ""
             }
            },
            "type": "scatterpolar"
           }
          ],
          "scatterpolargl": [
           {
            "marker": {
             "colorbar": {
              "outlinewidth": 0,
              "ticks": ""
             }
            },
            "type": "scatterpolargl"
           }
          ],
          "scatterternary": [
           {
            "marker": {
             "colorbar": {
              "outlinewidth": 0,
              "ticks": ""
             }
            },
            "type": "scatterternary"
           }
          ],
          "surface": [
           {
            "colorbar": {
             "outlinewidth": 0,
             "ticks": ""
            },
            "colorscale": [
             [
              0,
              "#0d0887"
             ],
             [
              0.1111111111111111,
              "#46039f"
             ],
             [
              0.2222222222222222,
              "#7201a8"
             ],
             [
              0.3333333333333333,
              "#9c179e"
             ],
             [
              0.4444444444444444,
              "#bd3786"
             ],
             [
              0.5555555555555556,
              "#d8576b"
             ],
             [
              0.6666666666666666,
              "#ed7953"
             ],
             [
              0.7777777777777778,
              "#fb9f3a"
             ],
             [
              0.8888888888888888,
              "#fdca26"
             ],
             [
              1,
              "#f0f921"
             ]
            ],
            "type": "surface"
           }
          ],
          "table": [
           {
            "cells": {
             "fill": {
              "color": "#EBF0F8"
             },
             "line": {
              "color": "white"
             }
            },
            "header": {
             "fill": {
              "color": "#C8D4E3"
             },
             "line": {
              "color": "white"
             }
            },
            "type": "table"
           }
          ]
         },
         "layout": {
          "annotationdefaults": {
           "arrowcolor": "#2a3f5f",
           "arrowhead": 0,
           "arrowwidth": 1
          },
          "autotypenumbers": "strict",
          "coloraxis": {
           "colorbar": {
            "outlinewidth": 0,
            "ticks": ""
           }
          },
          "colorscale": {
           "diverging": [
            [
             0,
             "#8e0152"
            ],
            [
             0.1,
             "#c51b7d"
            ],
            [
             0.2,
             "#de77ae"
            ],
            [
             0.3,
             "#f1b6da"
            ],
            [
             0.4,
             "#fde0ef"
            ],
            [
             0.5,
             "#f7f7f7"
            ],
            [
             0.6,
             "#e6f5d0"
            ],
            [
             0.7,
             "#b8e186"
            ],
            [
             0.8,
             "#7fbc41"
            ],
            [
             0.9,
             "#4d9221"
            ],
            [
             1,
             "#276419"
            ]
           ],
           "sequential": [
            [
             0,
             "#0d0887"
            ],
            [
             0.1111111111111111,
             "#46039f"
            ],
            [
             0.2222222222222222,
             "#7201a8"
            ],
            [
             0.3333333333333333,
             "#9c179e"
            ],
            [
             0.4444444444444444,
             "#bd3786"
            ],
            [
             0.5555555555555556,
             "#d8576b"
            ],
            [
             0.6666666666666666,
             "#ed7953"
            ],
            [
             0.7777777777777778,
             "#fb9f3a"
            ],
            [
             0.8888888888888888,
             "#fdca26"
            ],
            [
             1,
             "#f0f921"
            ]
           ],
           "sequentialminus": [
            [
             0,
             "#0d0887"
            ],
            [
             0.1111111111111111,
             "#46039f"
            ],
            [
             0.2222222222222222,
             "#7201a8"
            ],
            [
             0.3333333333333333,
             "#9c179e"
            ],
            [
             0.4444444444444444,
             "#bd3786"
            ],
            [
             0.5555555555555556,
             "#d8576b"
            ],
            [
             0.6666666666666666,
             "#ed7953"
            ],
            [
             0.7777777777777778,
             "#fb9f3a"
            ],
            [
             0.8888888888888888,
             "#fdca26"
            ],
            [
             1,
             "#f0f921"
            ]
           ]
          },
          "colorway": [
           "#636efa",
           "#EF553B",
           "#00cc96",
           "#ab63fa",
           "#FFA15A",
           "#19d3f3",
           "#FF6692",
           "#B6E880",
           "#FF97FF",
           "#FECB52"
          ],
          "font": {
           "color": "#2a3f5f"
          },
          "geo": {
           "bgcolor": "white",
           "lakecolor": "white",
           "landcolor": "#E5ECF6",
           "showlakes": true,
           "showland": true,
           "subunitcolor": "white"
          },
          "hoverlabel": {
           "align": "left"
          },
          "hovermode": "closest",
          "mapbox": {
           "style": "light"
          },
          "paper_bgcolor": "white",
          "plot_bgcolor": "#E5ECF6",
          "polar": {
           "angularaxis": {
            "gridcolor": "white",
            "linecolor": "white",
            "ticks": ""
           },
           "bgcolor": "#E5ECF6",
           "radialaxis": {
            "gridcolor": "white",
            "linecolor": "white",
            "ticks": ""
           }
          },
          "scene": {
           "xaxis": {
            "backgroundcolor": "#E5ECF6",
            "gridcolor": "white",
            "gridwidth": 2,
            "linecolor": "white",
            "showbackground": true,
            "ticks": "",
            "zerolinecolor": "white"
           },
           "yaxis": {
            "backgroundcolor": "#E5ECF6",
            "gridcolor": "white",
            "gridwidth": 2,
            "linecolor": "white",
            "showbackground": true,
            "ticks": "",
            "zerolinecolor": "white"
           },
           "zaxis": {
            "backgroundcolor": "#E5ECF6",
            "gridcolor": "white",
            "gridwidth": 2,
            "linecolor": "white",
            "showbackground": true,
            "ticks": "",
            "zerolinecolor": "white"
           }
          },
          "shapedefaults": {
           "line": {
            "color": "#2a3f5f"
           }
          },
          "ternary": {
           "aaxis": {
            "gridcolor": "white",
            "linecolor": "white",
            "ticks": ""
           },
           "baxis": {
            "gridcolor": "white",
            "linecolor": "white",
            "ticks": ""
           },
           "bgcolor": "#E5ECF6",
           "caxis": {
            "gridcolor": "white",
            "linecolor": "white",
            "ticks": ""
           }
          },
          "title": {
           "x": 0.05
          },
          "xaxis": {
           "automargin": true,
           "gridcolor": "white",
           "linecolor": "white",
           "ticks": "",
           "title": {
            "standoff": 15
           },
           "zerolinecolor": "white",
           "zerolinewidth": 2
          },
          "yaxis": {
           "automargin": true,
           "gridcolor": "white",
           "linecolor": "white",
           "ticks": "",
           "title": {
            "standoff": 15
           },
           "zerolinecolor": "white",
           "zerolinewidth": 2
          }
         }
        },
        "title": {
         "text": "Similarity Graph Visualization"
        },
        "xaxis": {
         "showgrid": false,
         "showticklabels": false,
         "zeroline": false
        },
        "yaxis": {
         "showgrid": false,
         "showticklabels": false,
         "zeroline": false
        }
       }
      }
     },
     "metadata": {},
     "output_type": "display_data"
    }
   ],
   "source": [
    "# construct a graph from the sentences and calculate the the similarity between the sentences on the edges\n",
    "def graph_constuction(sentences, threshold):\n",
    "    graph = nx.Graph()\n",
    "    graph.add_nodes_from(sentences)\n",
    "    similarity_matrix = similarity_matrix_create(sentences)\n",
    "    for row in range(len(similarity_matrix)):\n",
    "        for col in range(len(similarity_matrix)):\n",
    "            if similarity_matrix[row][col] > threshold:\n",
    "                graph.add_edge(sentences[row], sentences[col], weight=similarity_matrix[row][col])\n",
    "    graph.remove_nodes_from(list(nx.isolates(graph)))\n",
    "    \n",
    "    pos = nx.spring_layout(graph)\n",
    "    labels = {}\n",
    "    for node in graph.nodes():\n",
    "        labels[node] = node\n",
    "    edge_trace = go.Scatter(\n",
    "        x=[],\n",
    "        y=[],\n",
    "        line=dict(width=0.5, color='#888'),\n",
    "        hoverinfo='none',\n",
    "        mode='lines'\n",
    "    )\n",
    "    node_trace = go.Scatter(\n",
    "        x=[],\n",
    "        y=[],\n",
    "        hovertext=[],\n",
    "        mode='markers',\n",
    "        hovertemplate='%{hovertext}',\n",
    "        marker=dict(\n",
    "            showscale=False,\n",
    "            colorscale='YlGnBu',\n",
    "            reversescale=True,\n",
    "            color=[],\n",
    "            size=10,\n",
    "            colorbar=dict(\n",
    "                thickness=15,\n",
    "                title='Node Connections',\n",
    "                xanchor='left',\n",
    "                titleside='right'\n",
    "            ),\n",
    "            line=dict(width=2)\n",
    "        )\n",
    "    )\n",
    "    for node in graph.nodes():\n",
    "        x, y = pos[node]\n",
    "        node_trace['x'] += (x,)\n",
    "        node_trace['y'] += (y,)\n",
    "        node_trace['hovertext'] += (node,)\n",
    "    for edge in graph.edges():\n",
    "        x0, y0 = pos[edge[0]]\n",
    "        x1, y1 = pos[edge[1]]\n",
    "        edge_trace['x'] += (x0, x1, None)\n",
    "        edge_trace['y'] += (y0, y1, None)\n",
    "    edge_labels = nx.get_edge_attributes(graph, 'weight')\n",
    "    edge_annotations = [\n",
    "        dict(\n",
    "            x=(pos[edge[0]][0] + pos[edge[1]][0]) / 2,\n",
    "            y=(pos[edge[0]][1] + pos[edge[1]][1]) / 2,\n",
    "            text=f\"{edge_labels[edge]:.2f}\",\n",
    "            showarrow=False,\n",
    "            font=dict(size=10, color='red')\n",
    "        )\n",
    "        for edge in graph.edges()\n",
    "    ]\n",
    "    fig = go.Figure(data=[edge_trace, node_trace],\n",
    "                    layout=go.Layout(\n",
    "                        title='Similarity Graph Visualization',\n",
    "                        showlegend=False,\n",
    "                        hovermode='closest',\n",
    "                        margin=dict(b=20, l=5, r=5, t=40),\n",
    "                        annotations=edge_annotations,\n",
    "                        xaxis=dict(showgrid=False, zeroline=False, showticklabels=False),\n",
    "                        yaxis=dict(showgrid=False, zeroline=False, showticklabels=False)\n",
    "                    )\n",
    "    )\n",
    "    \n",
    "    fig.show()\n",
    "graph_constuction(sentences, 0.3)"
   ]
  }
 ],
 "metadata": {
  "kernelspec": {
   "display_name": "Python 3",
   "language": "python",
   "name": "python3"
  },
  "language_info": {
   "codemirror_mode": {
    "name": "ipython",
    "version": 3
   },
   "file_extension": ".py",
   "mimetype": "text/x-python",
   "name": "python",
   "nbconvert_exporter": "python",
   "pygments_lexer": "ipython3",
   "version": "3.10.11"
  },
  "orig_nbformat": 4
 },
 "nbformat": 4,
 "nbformat_minor": 2
}
